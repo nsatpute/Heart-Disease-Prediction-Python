{
 "cells": [
  {
   "cell_type": "code",
   "execution_count": 1,
   "id": "dc032f6d",
   "metadata": {},
   "outputs": [],
   "source": [
    "import pandas as pd\n",
    "import matplotlib.pyplot as plt\n",
    "import seaborn as sns\n",
    "from statsmodels.graphics.mosaicplot import mosaic"
   ]
  },
  {
   "cell_type": "code",
   "execution_count": 2,
   "id": "7f13efed",
   "metadata": {},
   "outputs": [],
   "source": [
    "import warnings\n",
    "warnings.filterwarnings('ignore')"
   ]
  },
  {
   "cell_type": "code",
   "execution_count": 3,
   "id": "6cb49b6e",
   "metadata": {},
   "outputs": [],
   "source": [
    "data = pd.read_csv('/Users/zilingli/Desktop/heart_2020_cleaned.csv')"
   ]
  },
  {
   "cell_type": "code",
   "execution_count": 4,
   "id": "63cad0a8",
   "metadata": {},
   "outputs": [
    {
     "data": {
      "text/plain": [
       "(319795, 18)"
      ]
     },
     "execution_count": 4,
     "metadata": {},
     "output_type": "execute_result"
    }
   ],
   "source": [
    "data.shape  ### original dataset has 18 columns and 319795 obs "
   ]
  },
  {
   "cell_type": "code",
   "execution_count": 5,
   "id": "c6e8511a",
   "metadata": {},
   "outputs": [
    {
     "name": "stdout",
     "output_type": "stream",
     "text": [
      "<class 'pandas.core.frame.DataFrame'>\n",
      "RangeIndex: 319795 entries, 0 to 319794\n",
      "Data columns (total 18 columns):\n",
      " #   Column            Non-Null Count   Dtype  \n",
      "---  ------            --------------   -----  \n",
      " 0   HeartDisease      319795 non-null  object \n",
      " 1   BMI               319795 non-null  float64\n",
      " 2   Smoking           319795 non-null  object \n",
      " 3   AlcoholDrinking   319795 non-null  object \n",
      " 4   Stroke            319795 non-null  object \n",
      " 5   PhysicalHealth    319795 non-null  float64\n",
      " 6   MentalHealth      319795 non-null  float64\n",
      " 7   DiffWalking       319795 non-null  object \n",
      " 8   Sex               319795 non-null  object \n",
      " 9   AgeCategory       319795 non-null  object \n",
      " 10  Race              319795 non-null  object \n",
      " 11  Diabetic          319795 non-null  object \n",
      " 12  PhysicalActivity  319795 non-null  object \n",
      " 13  GenHealth         319795 non-null  object \n",
      " 14  SleepTime         319795 non-null  float64\n",
      " 15  Asthma            319795 non-null  object \n",
      " 16  KidneyDisease     319795 non-null  object \n",
      " 17  SkinCancer        319795 non-null  object \n",
      "dtypes: float64(4), object(14)\n",
      "memory usage: 43.9+ MB\n"
     ]
    }
   ],
   "source": [
    "data.info()"
   ]
  },
  {
   "cell_type": "code",
   "execution_count": 6,
   "id": "24e2a973",
   "metadata": {},
   "outputs": [
    {
     "data": {
      "text/html": [
       "<div>\n",
       "<style scoped>\n",
       "    .dataframe tbody tr th:only-of-type {\n",
       "        vertical-align: middle;\n",
       "    }\n",
       "\n",
       "    .dataframe tbody tr th {\n",
       "        vertical-align: top;\n",
       "    }\n",
       "\n",
       "    .dataframe thead th {\n",
       "        text-align: right;\n",
       "    }\n",
       "</style>\n",
       "<table border=\"1\" class=\"dataframe\">\n",
       "  <thead>\n",
       "    <tr style=\"text-align: right;\">\n",
       "      <th></th>\n",
       "      <th>BMI</th>\n",
       "      <th>PhysicalHealth</th>\n",
       "      <th>MentalHealth</th>\n",
       "      <th>SleepTime</th>\n",
       "    </tr>\n",
       "  </thead>\n",
       "  <tbody>\n",
       "    <tr>\n",
       "      <th>count</th>\n",
       "      <td>319795.000000</td>\n",
       "      <td>319795.00000</td>\n",
       "      <td>319795.000000</td>\n",
       "      <td>319795.000000</td>\n",
       "    </tr>\n",
       "    <tr>\n",
       "      <th>mean</th>\n",
       "      <td>28.325399</td>\n",
       "      <td>3.37171</td>\n",
       "      <td>3.898366</td>\n",
       "      <td>7.097075</td>\n",
       "    </tr>\n",
       "    <tr>\n",
       "      <th>std</th>\n",
       "      <td>6.356100</td>\n",
       "      <td>7.95085</td>\n",
       "      <td>7.955235</td>\n",
       "      <td>1.436007</td>\n",
       "    </tr>\n",
       "    <tr>\n",
       "      <th>min</th>\n",
       "      <td>12.020000</td>\n",
       "      <td>0.00000</td>\n",
       "      <td>0.000000</td>\n",
       "      <td>1.000000</td>\n",
       "    </tr>\n",
       "    <tr>\n",
       "      <th>25%</th>\n",
       "      <td>24.030000</td>\n",
       "      <td>0.00000</td>\n",
       "      <td>0.000000</td>\n",
       "      <td>6.000000</td>\n",
       "    </tr>\n",
       "    <tr>\n",
       "      <th>50%</th>\n",
       "      <td>27.340000</td>\n",
       "      <td>0.00000</td>\n",
       "      <td>0.000000</td>\n",
       "      <td>7.000000</td>\n",
       "    </tr>\n",
       "    <tr>\n",
       "      <th>75%</th>\n",
       "      <td>31.420000</td>\n",
       "      <td>2.00000</td>\n",
       "      <td>3.000000</td>\n",
       "      <td>8.000000</td>\n",
       "    </tr>\n",
       "    <tr>\n",
       "      <th>max</th>\n",
       "      <td>94.850000</td>\n",
       "      <td>30.00000</td>\n",
       "      <td>30.000000</td>\n",
       "      <td>24.000000</td>\n",
       "    </tr>\n",
       "  </tbody>\n",
       "</table>\n",
       "</div>"
      ],
      "text/plain": [
       "                 BMI  PhysicalHealth   MentalHealth      SleepTime\n",
       "count  319795.000000    319795.00000  319795.000000  319795.000000\n",
       "mean       28.325399         3.37171       3.898366       7.097075\n",
       "std         6.356100         7.95085       7.955235       1.436007\n",
       "min        12.020000         0.00000       0.000000       1.000000\n",
       "25%        24.030000         0.00000       0.000000       6.000000\n",
       "50%        27.340000         0.00000       0.000000       7.000000\n",
       "75%        31.420000         2.00000       3.000000       8.000000\n",
       "max        94.850000        30.00000      30.000000      24.000000"
      ]
     },
     "execution_count": 6,
     "metadata": {},
     "output_type": "execute_result"
    }
   ],
   "source": [
    "data.describe()  ### statistical summary"
   ]
  },
  {
   "cell_type": "markdown",
   "id": "42d96cef",
   "metadata": {},
   "source": [
    "Exploratory Analysis & Visualizations"
   ]
  },
  {
   "cell_type": "markdown",
   "id": "2a264c0c",
   "metadata": {},
   "source": [
    "Numeric Variables "
   ]
  },
  {
   "cell_type": "code",
   "execution_count": 7,
   "id": "a5da8016",
   "metadata": {},
   "outputs": [
    {
     "data": {
      "text/plain": [
       "<AxesSubplot:xlabel='BMI', ylabel='Density'>"
      ]
     },
     "execution_count": 7,
     "metadata": {},
     "output_type": "execute_result"
    },
    {
     "data": {
      "image/png": "[encoded data removed]",
      "text/plain": [
       "<Figure size 432x288 with 1 Axes>"
      ]
     },
     "metadata": {
      "needs_background": "light"
     },
     "output_type": "display_data"
    }
   ],
   "source": [
    "sns.kdeplot(data=data,x='BMI',hue='HeartDisease',common_norm=False)"
   ]
  },
  {
   "cell_type": "code",
   "execution_count": 8,
   "id": "b5ee04bd",
   "metadata": {},
   "outputs": [
    {
     "data": {
      "text/plain": [
       "<AxesSubplot:xlabel='PhysicalHealth', ylabel='Density'>"
      ]
     },
     "execution_count": 8,
     "metadata": {},
     "output_type": "execute_result"
    },
    {
     "data": {
      "image/png": "[encoded data removed]",
      "text/plain": [
       "<Figure size 432x288 with 1 Axes>"
      ]
     },
     "metadata": {
      "needs_background": "light"
     },
     "output_type": "display_data"
    }
   ],
   "source": [
    "sns.kdeplot(data=data,x='PhysicalHealth',hue='HeartDisease',common_norm=False)"
   ]
  },
  {
   "cell_type": "code",
   "execution_count": 9,
   "id": "70c310c9",
   "metadata": {},
   "outputs": [
    {
     "data": {
      "text/plain": [
       "<AxesSubplot:xlabel='MentalHealth', ylabel='Density'>"
      ]
     },
     "execution_count": 9,
     "metadata": {},
     "output_type": "execute_result"
    },
    {
     "data": {
      "image/png": "[encoded data removed]",
      "text/plain": [
       "<Figure size 432x288 with 1 Axes>"
      ]
     },
     "metadata": {
      "needs_background": "light"
     },
     "output_type": "display_data"
    }
   ],
   "source": [
    "sns.kdeplot(data=data,x='MentalHealth',hue='HeartDisease',common_norm=False)"
   ]
  },
  {
   "cell_type": "code",
   "execution_count": 10,
   "id": "b9374028",
   "metadata": {},
   "outputs": [
    {
     "data": {
      "text/plain": [
       "<AxesSubplot:xlabel='SleepTime', ylabel='Density'>"
      ]
     },
     "execution_count": 10,
     "metadata": {},
     "output_type": "execute_result"
    },
    {
     "data": {
      "image/png": "[encoded data removed]",
      "text/plain": [
       "<Figure size 432x288 with 1 Axes>"
      ]
     },
     "metadata": {
      "needs_background": "light"
     },
     "output_type": "display_data"
    }
   ],
   "source": [
    "sns.kdeplot(data=data,x='SleepTime',hue='HeartDisease',common_norm=False)"
   ]
  },
  {
   "cell_type": "markdown",
   "id": "86ceaaa2",
   "metadata": {},
   "source": [
    "Categorical Variables "
   ]
  },
  {
   "cell_type": "code",
   "execution_count": 11,
   "id": "5457cb1e",
   "metadata": {},
   "outputs": [
    {
     "data": {
      "text/plain": [
       "(<Figure size 432x288 with 3 Axes>,\n",
       " {('Yes', 'No'): (0.0, 0.0, 0.4104246198143571, 0.8755044918551407),\n",
       "  ('Yes', 'Yes'): (0.0,\n",
       "   0.8788267509913533,\n",
       "   0.4104246198143571,\n",
       "   0.12117324900864662),\n",
       "  ('No', 'No'): (0.4153997441924665,\n",
       "   0.0,\n",
       "   0.5846002558075334,\n",
       "   0.9365440494938049),\n",
       "  ('No', 'Yes'): (0.4153997441924665,\n",
       "   0.9398663086300174,\n",
       "   0.5846002558075334,\n",
       "   0.06013369136998242)})"
      ]
     },
     "execution_count": 11,
     "metadata": {},
     "output_type": "execute_result"
    },
    {
     "data": {
      "text/plain": [
       "<Figure size 576x432 with 0 Axes>"
      ]
     },
     "metadata": {},
     "output_type": "display_data"
    },
    {
     "data": {
      "image/png": "[encoded data removed]",
      "text/plain": [
       "<Figure size 432x288 with 3 Axes>"
      ]
     },
     "metadata": {
      "needs_background": "light"
     },
     "output_type": "display_data"
    }
   ],
   "source": [
    "plt.figure(figsize=(8, 6))\n",
    "mosaic(data,['Smoking', 'HeartDisease'], title='Heartdisease by Smoking')\n",
    "#plt.show()"
   ]
  },
  {
   "cell_type": "code",
   "execution_count": 12,
   "id": "31eadcd2",
   "metadata": {},
   "outputs": [
    {
     "data": {
      "text/plain": [
       "(<Figure size 432x288 with 3 Axes>,\n",
       " {('No', 'No'): (0.0, 0.0, 0.9272669159401636, 0.908948642291423),\n",
       "  ('No', 'Yes'): (0.0,\n",
       "   0.9122709014276356,\n",
       "   0.9272669159401636,\n",
       "   0.08772909857236429),\n",
       "  ('Yes', 'No'): (0.9322420403182731,\n",
       "   0.0,\n",
       "   0.06775795968172704,\n",
       "   0.9444570813456911),\n",
       "  ('Yes', 'Yes'): (0.9322420403182731,\n",
       "   0.9477793404819037,\n",
       "   0.06775795968172704,\n",
       "   0.05222065951809619)})"
      ]
     },
     "execution_count": 12,
     "metadata": {},
     "output_type": "execute_result"
    },
    {
     "data": {
      "text/plain": [
       "<Figure size 576x432 with 0 Axes>"
      ]
     },
     "metadata": {},
     "output_type": "display_data"
    },
    {
     "data": {
      "image/png": "[encoded data removed]",
      "text/plain": [
       "<Figure size 432x288 with 3 Axes>"
      ]
     },
     "metadata": {
      "needs_background": "light"
     },
     "output_type": "display_data"
    }
   ],
   "source": [
    "plt.figure(figsize=(8, 6))\n",
    "mosaic(data,['AlcoholDrinking', 'HeartDisease'], title='Heartdisease by AlcoholDrinking')"
   ]
  },
  {
   "cell_type": "code",
   "execution_count": 13,
   "id": "aedd79ed",
   "metadata": {},
   "outputs": [
    {
     "data": {
      "text/plain": [
       "(<Figure size 432x288 with 3 Axes>,\n",
       " {('No', 'No'): (0.0, 0.0, 0.9574728337704527, 0.9222360583409804),\n",
       "  ('No', 'Yes'): (0.0,\n",
       "   0.925558317477193,\n",
       "   0.9574728337704527,\n",
       "   0.07444168252280692),\n",
       "  ('Yes', 'No'): (0.9624479581485621,\n",
       "   0.0,\n",
       "   0.03755204185143798,\n",
       "   0.6342269491949529),\n",
       "  ('Yes', 'Yes'): (0.9624479581485621,\n",
       "   0.6375492083311655,\n",
       "   0.03755204185143798,\n",
       "   0.36245079166883437)})"
      ]
     },
     "execution_count": 13,
     "metadata": {},
     "output_type": "execute_result"
    },
    {
     "data": {
      "text/plain": [
       "<Figure size 576x432 with 0 Axes>"
      ]
     },
     "metadata": {},
     "output_type": "display_data"
    },
    {
     "data": {
      "image/png": "[encoded data removed]",
      "text/plain": [
       "<Figure size 432x288 with 3 Axes>"
      ]
     },
     "metadata": {
      "needs_background": "light"
     },
     "output_type": "display_data"
    }
   ],
   "source": [
    "plt.figure(figsize=(8, 6))\n",
    "mosaic(data,['Stroke', 'HeartDisease'], title='Heartdisease by Stroke')"
   ]
  },
  {
   "cell_type": "code",
   "execution_count": 14,
   "id": "72900989",
   "metadata": {},
   "outputs": [
    {
     "data": {
      "text/plain": [
       "(<Figure size 432x288 with 3 Axes>,\n",
       " {('No', 'No'): (0.0, 0.0, 0.8568455584769442, 0.9339024429525634),\n",
       "  ('No', 'Yes'): (0.0,\n",
       "   0.937224702088776,\n",
       "   0.8568455584769442,\n",
       "   0.06277529791122388),\n",
       "  ('Yes', 'No'): (0.8618206828550536,\n",
       "   0.0,\n",
       "   0.1381793171449465,\n",
       "   0.7716229247101719),\n",
       "  ('Yes', 'Yes'): (0.8618206828550536,\n",
       "   0.7749451838463846,\n",
       "   0.1381793171449465,\n",
       "   0.22505481615361536)})"
      ]
     },
     "execution_count": 14,
     "metadata": {},
     "output_type": "execute_result"
    },
    {
     "data": {
      "text/plain": [
       "<Figure size 576x432 with 0 Axes>"
      ]
     },
     "metadata": {},
     "output_type": "display_data"
    },
    {
     "data": {
      "image/png": "[encoded data removed]",
      "text/plain": [
       "<Figure size 432x288 with 3 Axes>"
      ]
     },
     "metadata": {
      "needs_background": "light"
     },
     "output_type": "display_data"
    }
   ],
   "source": [
    "plt.figure(figsize=(8, 6))\n",
    "mosaic(data,['DiffWalking', 'HeartDisease'], title='Heartdisease by DiffWalking')"
   ]
  },
  {
   "cell_type": "code",
   "execution_count": 15,
   "id": "bd09be62",
   "metadata": {},
   "outputs": [
    {
     "data": {
      "text/plain": [
       "(<Figure size 432x288 with 3 Axes>,\n",
       " {('Female', 'No'): (0.0, 0.0, 0.522116197106682, 0.9299534016553979),\n",
       "  ('Female', 'Yes'): (0.0,\n",
       "   0.9332756607916104,\n",
       "   0.522116197106682,\n",
       "   0.06672433920838945),\n",
       "  ('Male', 'No'): (0.5270913214847914,\n",
       "   0.0,\n",
       "   0.4729086785152087,\n",
       "   0.8908458962700597),\n",
       "  ('Male', 'Yes'): (0.5270913214847914,\n",
       "   0.8941681554062723,\n",
       "   0.4729086785152087,\n",
       "   0.10583184459372763)})"
      ]
     },
     "execution_count": 15,
     "metadata": {},
     "output_type": "execute_result"
    },
    {
     "data": {
      "text/plain": [
       "<Figure size 576x432 with 0 Axes>"
      ]
     },
     "metadata": {},
     "output_type": "display_data"
    },
    {
     "data": {
      "image/png": "[encoded data removed]",
      "text/plain": [
       "<Figure size 432x288 with 3 Axes>"
      ]
     },
     "metadata": {
      "needs_background": "light"
     },
     "output_type": "display_data"
    }
   ],
   "source": [
    "plt.figure(figsize=(8, 6))\n",
    "mosaic(data,['Sex', 'HeartDisease'], title='Heartdisease by Sex')"
   ]
  },
  {
   "cell_type": "code",
   "execution_count": 16,
   "id": "ba53e39d",
   "metadata": {},
   "outputs": [
    {
     "data": {
      "image/png": "[encoded data removed]",
      "text/plain": [
       "<Figure size 1008x432 with 1 Axes>"
      ]
     },
     "metadata": {
      "needs_background": "light"
     },
     "output_type": "display_data"
    }
   ],
   "source": [
    "plt.figure(figsize=(14,6))\n",
    "sns.countplot(x='AgeCategory', data=data, hue='HeartDisease')\n",
    "plt.title('Heart Disease Frequency for AgeCategory')\n",
    "plt.xlabel('AgeCategory')\n",
    "plt.legend([\"No HeartDisease\", \"Have HeartDisease\"])\n",
    "plt.ylabel('Frequency')\n",
    "plt.show()"
   ]
  },
  {
   "cell_type": "code",
   "execution_count": 17,
   "id": "bf2df54d",
   "metadata": {},
   "outputs": [
    {
     "data": {
      "image/png": "[encoded data removed]",
      "text/plain": [
       "<Figure size 1008x432 with 1 Axes>"
      ]
     },
     "metadata": {
      "needs_background": "light"
     },
     "output_type": "display_data"
    }
   ],
   "source": [
    "plt.figure(figsize=(14,6))\n",
    "sns.countplot(x='Race', data=data, hue='HeartDisease')\n",
    "plt.title('Heart Disease Frequency for Race')\n",
    "plt.xlabel('Race')\n",
    "plt.legend([\"No HeartDisease\", \"Have HeartDisease\"])\n",
    "plt.ylabel('Frequency')\n",
    "plt.show()"
   ]
  },
  {
   "cell_type": "code",
   "execution_count": 18,
   "id": "a8752d3d",
   "metadata": {},
   "outputs": [
    {
     "data": {
      "image/png": "[encoded data removed]",
      "text/plain": [
       "<Figure size 1008x432 with 1 Axes>"
      ]
     },
     "metadata": {
      "needs_background": "light"
     },
     "output_type": "display_data"
    }
   ],
   "source": [
    "plt.figure(figsize=(14,6))\n",
    "sns.countplot(x='Diabetic', data=data, hue='HeartDisease')\n",
    "plt.title('Heart Disease Frequency for Diabetic')\n",
    "plt.xlabel('Diabetic')\n",
    "plt.legend([\"No HeartDisease\", \"Have HeartDisease\"])\n",
    "plt.ylabel('Frequency')\n",
    "plt.show()"
   ]
  },
  {
   "cell_type": "code",
   "execution_count": 19,
   "id": "89f1edf1",
   "metadata": {},
   "outputs": [
    {
     "data": {
      "text/plain": [
       "(<Figure size 432x288 with 3 Axes>,\n",
       " {('Yes', 'No'): (0.0, 0.0, 0.7715048174129587, 0.9263796770464044),\n",
       "  ('Yes', 'Yes'): (0.0,\n",
       "   0.9297019361826171,\n",
       "   0.7715048174129587,\n",
       "   0.07029806381738281),\n",
       "  ('No', 'No'): (0.7764799417910683,\n",
       "   0.0,\n",
       "   0.2235200582089319,\n",
       "   0.8595474923783384),\n",
       "  ('No', 'Yes'): (0.7764799417910683,\n",
       "   0.862869751514551,\n",
       "   0.2235200582089319,\n",
       "   0.13713024848544889)})"
      ]
     },
     "execution_count": 19,
     "metadata": {},
     "output_type": "execute_result"
    },
    {
     "data": {
      "text/plain": [
       "<Figure size 576x432 with 0 Axes>"
      ]
     },
     "metadata": {},
     "output_type": "display_data"
    },
    {
     "data": {
      "image/png": "[encoded data removed]",
      "text/plain": [
       "<Figure size 432x288 with 3 Axes>"
      ]
     },
     "metadata": {
      "needs_background": "light"
     },
     "output_type": "display_data"
    }
   ],
   "source": [
    "plt.figure(figsize=(8, 6))\n",
    "mosaic(data,['PhysicalActivity', 'HeartDisease'], title='Heartdisease by PhysicalActivity')"
   ]
  },
  {
   "cell_type": "code",
   "execution_count": 20,
   "id": "fbfe3dbf",
   "metadata": {},
   "outputs": [
    {
     "data": {
      "image/png": "[encoded data removed]",
      "text/plain": [
       "<Figure size 1008x432 with 1 Axes>"
      ]
     },
     "metadata": {
      "needs_background": "light"
     },
     "output_type": "display_data"
    }
   ],
   "source": [
    "plt.figure(figsize=(14,6))\n",
    "sns.countplot(x='GenHealth', data=data, hue='HeartDisease')\n",
    "plt.title('Heart Disease Frequency for GenHealth')\n",
    "plt.xlabel('GenHealth')\n",
    "plt.legend([\"No HeartDisease\", \"Have HeartDisease\"])\n",
    "plt.ylabel('Frequency')\n",
    "plt.show()"
   ]
  },
  {
   "cell_type": "code",
   "execution_count": 21,
   "id": "b1de2f9f",
   "metadata": {},
   "outputs": [
    {
     "data": {
      "text/plain": [
       "(<Figure size 432x288 with 3 Axes>,\n",
       " {('Yes', 'No'): (0.0, 0.0, 0.13339391318707827, 0.8819965667715811),\n",
       "  ('Yes', 'Yes'): (0.0,\n",
       "   0.8853188259077938,\n",
       "   0.13339391318707827,\n",
       "   0.11468117409220614),\n",
       "  ('No', 'No'): (0.13836903756518773,\n",
       "   0.0,\n",
       "   0.8616309624348124,\n",
       "   0.9159135988279745),\n",
       "  ('No', 'Yes'): (0.13836903756518773,\n",
       "   0.919235857964187,\n",
       "   0.8616309624348124,\n",
       "   0.08076414203581281)})"
      ]
     },
     "execution_count": 21,
     "metadata": {},
     "output_type": "execute_result"
    },
    {
     "data": {
      "text/plain": [
       "<Figure size 576x432 with 0 Axes>"
      ]
     },
     "metadata": {},
     "output_type": "display_data"
    },
    {
     "data": {
      "image/png": "[encoded data removed]",
      "text/plain": [
       "<Figure size 432x288 with 3 Axes>"
      ]
     },
     "metadata": {
      "needs_background": "light"
     },
     "output_type": "display_data"
    }
   ],
   "source": [
    "plt.figure(figsize=(8, 6))\n",
    "mosaic(data,['Asthma', 'HeartDisease'], title='Heartdisease by Asthma')"
   ]
  },
  {
   "cell_type": "code",
   "execution_count": 22,
   "id": "381c2410",
   "metadata": {},
   "outputs": [
    {
     "data": {
      "text/plain": [
       "(<Figure size 432x288 with 3 Axes>,\n",
       " {('No', 'No'): (0.0, 0.0, 0.9583751531123134, 0.9192839100044161),\n",
       "  ('No', 'Yes'): (0.0,\n",
       "   0.9226061691406287,\n",
       "   0.9583751531123134,\n",
       "   0.0773938308593712),\n",
       "  ('Yes', 'No'): (0.9633502774904229,\n",
       "   0.0,\n",
       "   0.03664972250957725,\n",
       "   0.7043336034425813),\n",
       "  ('Yes', 'Yes'): (0.9633502774904229,\n",
       "   0.7076558625787939,\n",
       "   0.03664972250957725,\n",
       "   0.292344137421206)})"
      ]
     },
     "execution_count": 22,
     "metadata": {},
     "output_type": "execute_result"
    },
    {
     "data": {
      "text/plain": [
       "<Figure size 576x432 with 0 Axes>"
      ]
     },
     "metadata": {},
     "output_type": "display_data"
    },
    {
     "data": {
      "image/png": "[encoded data removed]",
      "text/plain": [
       "<Figure size 432x288 with 3 Axes>"
      ]
     },
     "metadata": {
      "needs_background": "light"
     },
     "output_type": "display_data"
    }
   ],
   "source": [
    "plt.figure(figsize=(8, 6))\n",
    "mosaic(data,['KidneyDisease', 'HeartDisease'], title='Heartdisease by KidneyDisease')"
   ]
  },
  {
   "cell_type": "code",
   "execution_count": 23,
   "id": "16fc4e93",
   "metadata": {},
   "outputs": [
    {
     "data": {
      "text/plain": [
       "(<Figure size 432x288 with 3 Axes>,\n",
       " {('Yes', 'No'): (0.0, 0.0, 0.09278020846532672, 0.8302249708345556),\n",
       "  ('Yes', 'Yes'): (0.0,\n",
       "   0.8335472299707681,\n",
       "   0.09278020846532672,\n",
       "   0.16645277002923173),\n",
       "  ('No', 'No'): (0.09775533284343618,\n",
       "   0.0,\n",
       "   0.9022446671565639,\n",
       "   0.9197106654811253),\n",
       "  ('No', 'Yes'): (0.09775533284343618,\n",
       "   0.923032924617338,\n",
       "   0.9022446671565639,\n",
       "   0.07696707538266193)})"
      ]
     },
     "execution_count": 23,
     "metadata": {},
     "output_type": "execute_result"
    },
    {
     "data": {
      "text/plain": [
       "<Figure size 576x432 with 0 Axes>"
      ]
     },
     "metadata": {},
     "output_type": "display_data"
    },
    {
     "data": {
      "image/png": "[encoded data removed]",
      "text/plain": [
       "<Figure size 432x288 with 3 Axes>"
      ]
     },
     "metadata": {
      "needs_background": "light"
     },
     "output_type": "display_data"
    }
   ],
   "source": [
    "plt.figure(figsize=(8, 6))\n",
    "mosaic(data,['SkinCancer', 'HeartDisease'], title='Heartdisease by SkinCancer')"
   ]
  },
  {
   "cell_type": "code",
   "execution_count": 24,
   "id": "7e25509b",
   "metadata": {},
   "outputs": [],
   "source": [
    "##### check for missing values "
   ]
  },
  {
   "cell_type": "code",
   "execution_count": 25,
   "id": "c2e78471",
   "metadata": {},
   "outputs": [
    {
     "data": {
      "text/plain": [
       "HeartDisease        0\n",
       "BMI                 0\n",
       "Smoking             0\n",
       "AlcoholDrinking     0\n",
       "Stroke              0\n",
       "PhysicalHealth      0\n",
       "MentalHealth        0\n",
       "DiffWalking         0\n",
       "Sex                 0\n",
       "AgeCategory         0\n",
       "Race                0\n",
       "Diabetic            0\n",
       "PhysicalActivity    0\n",
       "GenHealth           0\n",
       "SleepTime           0\n",
       "Asthma              0\n",
       "KidneyDisease       0\n",
       "SkinCancer          0\n",
       "dtype: int64"
      ]
     },
     "execution_count": 25,
     "metadata": {},
     "output_type": "execute_result"
    }
   ],
   "source": [
    "data.isnull().sum()"
   ]
  },
  {
   "cell_type": "code",
   "execution_count": 26,
   "id": "4b07a9c7",
   "metadata": {},
   "outputs": [],
   "source": [
    "##### check whether the target variable is balanced "
   ]
  },
  {
   "cell_type": "code",
   "execution_count": 27,
   "id": "1a82f666",
   "metadata": {},
   "outputs": [
    {
     "data": {
      "text/plain": [
       "No     292422\n",
       "Yes     27373\n",
       "Name: HeartDisease, dtype: int64"
      ]
     },
     "execution_count": 27,
     "metadata": {},
     "output_type": "execute_result"
    }
   ],
   "source": [
    "data.HeartDisease.value_counts()"
   ]
  },
  {
   "cell_type": "code",
   "execution_count": 28,
   "id": "72eab012",
   "metadata": {},
   "outputs": [
    {
     "data": {
      "text/plain": [
       "<AxesSubplot:xlabel='HeartDisease', ylabel='count'>"
      ]
     },
     "execution_count": 28,
     "metadata": {},
     "output_type": "execute_result"
    },
    {
     "data": {
      "image/png": "[encoded data removed]",
      "text/plain": [
       "<Figure size 432x288 with 1 Axes>"
      ]
     },
     "metadata": {
      "needs_background": "light"
     },
     "output_type": "display_data"
    }
   ],
   "source": [
    "sns.countplot(x='HeartDisease',data=data)"
   ]
  },
  {
   "cell_type": "code",
   "execution_count": 29,
   "id": "e4a1914e",
   "metadata": {},
   "outputs": [
    {
     "data": {
      "text/plain": [
       "<function matplotlib.pyplot.show(close=None, block=None)>"
      ]
     },
     "execution_count": 29,
     "metadata": {},
     "output_type": "execute_result"
    },
    {
     "data": {
      "image/png": "[encoded data removed]",
      "text/plain": [
       "<Figure size 432x288 with 1 Axes>"
      ]
     },
     "metadata": {},
     "output_type": "display_data"
    }
   ],
   "source": [
    "#show Ratio of HeartDisease from data\n",
    "plt.pie(x = data['HeartDisease'].value_counts() ,autopct='%1.1f%%' ,labels=data['HeartDisease'].value_counts().index)\n",
    "plt.title('% of HeartDisease in Dataset')\n",
    "plt.show"
   ]
  },
  {
   "cell_type": "code",
   "execution_count": 30,
   "id": "291ecdc3",
   "metadata": {},
   "outputs": [],
   "source": [
    "#######  Drop duplicates "
   ]
  },
  {
   "cell_type": "code",
   "execution_count": 31,
   "id": "65b2a350",
   "metadata": {},
   "outputs": [
    {
     "data": {
      "text/plain": [
       "18078"
      ]
     },
     "execution_count": 31,
     "metadata": {},
     "output_type": "execute_result"
    }
   ],
   "source": [
    "data.duplicated().sum()"
   ]
  },
  {
   "cell_type": "code",
   "execution_count": 32,
   "id": "47180bd8",
   "metadata": {},
   "outputs": [],
   "source": [
    "df = data.copy()"
   ]
  },
  {
   "cell_type": "code",
   "execution_count": 33,
   "id": "6155a9f1",
   "metadata": {},
   "outputs": [],
   "source": [
    "df.drop_duplicates(inplace=True)"
   ]
  },
  {
   "cell_type": "code",
   "execution_count": 34,
   "id": "841c6add",
   "metadata": {},
   "outputs": [
    {
     "data": {
      "text/plain": [
       "(301717, 18)"
      ]
     },
     "execution_count": 34,
     "metadata": {},
     "output_type": "execute_result"
    }
   ],
   "source": [
    "df.shape ### data has 18 variables and 301717 obs after dropping the duplicates "
   ]
  },
  {
   "cell_type": "code",
   "execution_count": 35,
   "id": "2377fb0b",
   "metadata": {},
   "outputs": [
    {
     "data": {
      "text/plain": [
       "HeartDisease         object\n",
       "BMI                 float64\n",
       "Smoking              object\n",
       "AlcoholDrinking      object\n",
       "Stroke               object\n",
       "PhysicalHealth      float64\n",
       "MentalHealth        float64\n",
       "DiffWalking          object\n",
       "Sex                  object\n",
       "AgeCategory          object\n",
       "Race                 object\n",
       "Diabetic             object\n",
       "PhysicalActivity     object\n",
       "GenHealth            object\n",
       "SleepTime           float64\n",
       "Asthma               object\n",
       "KidneyDisease        object\n",
       "SkinCancer           object\n",
       "dtype: object"
      ]
     },
     "execution_count": 35,
     "metadata": {},
     "output_type": "execute_result"
    }
   ],
   "source": [
    "df.dtypes"
   ]
  },
  {
   "cell_type": "code",
   "execution_count": 36,
   "id": "6052a9e8",
   "metadata": {},
   "outputs": [
    {
     "data": {
      "text/plain": [
       "No     274456\n",
       "Yes     27261\n",
       "Name: HeartDisease, dtype: int64"
      ]
     },
     "execution_count": 36,
     "metadata": {},
     "output_type": "execute_result"
    }
   ],
   "source": [
    "##### check target variable \n",
    "\n",
    "df.HeartDisease.value_counts()"
   ]
  },
  {
   "cell_type": "code",
   "execution_count": 37,
   "id": "c41709fe",
   "metadata": {},
   "outputs": [
    {
     "data": {
      "text/plain": [
       "<AxesSubplot:xlabel='HeartDisease', ylabel='count'>"
      ]
     },
     "execution_count": 37,
     "metadata": {},
     "output_type": "execute_result"
    },
    {
     "data": {
      "image/png": "[encoded data removed]",
      "text/plain": [
       "<Figure size 432x288 with 1 Axes>"
      ]
     },
     "metadata": {
      "needs_background": "light"
     },
     "output_type": "display_data"
    }
   ],
   "source": [
    "sns.countplot(x='HeartDisease',data=df)"
   ]
  },
  {
   "cell_type": "code",
   "execution_count": 38,
   "id": "820c8266",
   "metadata": {},
   "outputs": [
    {
     "data": {
      "text/plain": [
       "<function matplotlib.pyplot.show(close=None, block=None)>"
      ]
     },
     "execution_count": 38,
     "metadata": {},
     "output_type": "execute_result"
    },
    {
     "data": {
      "image/png": "[encoded data removed]",
      "text/plain": [
       "<Figure size 432x288 with 1 Axes>"
      ]
     },
     "metadata": {},
     "output_type": "display_data"
    }
   ],
   "source": [
    "#show Ratio of HeartDisease from data after dropping the duplicates \n",
    "plt.pie(x = df['HeartDisease'].value_counts() ,autopct='%1.1f%%' ,labels=df['HeartDisease'].value_counts().index)\n",
    "plt.title('% of HeartDisease in Dataset')\n",
    "plt.show"
   ]
  },
  {
   "cell_type": "code",
   "execution_count": 39,
   "id": "97b6242b",
   "metadata": {},
   "outputs": [],
   "source": [
    "##### transform categorical variables into numeric format "
   ]
  },
  {
   "cell_type": "code",
   "execution_count": 40,
   "id": "0e04d98d",
   "metadata": {},
   "outputs": [],
   "source": [
    "cate = ['HeartDisease','Smoking','AlcoholDrinking','Stroke','DiffWalking','Sex','PhysicalActivity','Asthma','KidneyDisease','SkinCancer']\n",
    "multi_cate = ['AgeCategory','Race','Diabetic','GenHealth']"
   ]
  },
  {
   "cell_type": "code",
   "execution_count": 41,
   "id": "141b6077",
   "metadata": {},
   "outputs": [],
   "source": [
    "### create a function to get unique values \n",
    "def countunique(row):\n",
    "    print( row+'\\n',df[row].unique())"
   ]
  },
  {
   "cell_type": "code",
   "execution_count": 42,
   "id": "72521826",
   "metadata": {},
   "outputs": [
    {
     "name": "stdout",
     "output_type": "stream",
     "text": [
      "HeartDisease\n",
      " ['No' 'Yes']\n",
      "Smoking\n",
      " ['Yes' 'No']\n",
      "AlcoholDrinking\n",
      " ['No' 'Yes']\n",
      "Stroke\n",
      " ['No' 'Yes']\n",
      "DiffWalking\n",
      " ['No' 'Yes']\n",
      "Sex\n",
      " ['Female' 'Male']\n",
      "PhysicalActivity\n",
      " ['Yes' 'No']\n",
      "Asthma\n",
      " ['Yes' 'No']\n",
      "KidneyDisease\n",
      " ['No' 'Yes']\n",
      "SkinCancer\n",
      " ['Yes' 'No']\n"
     ]
    }
   ],
   "source": [
    "### show the unique values \n",
    "for c in cate:\n",
    "    countunique(c)"
   ]
  },
  {
   "cell_type": "code",
   "execution_count": 43,
   "id": "d1fa1b14",
   "metadata": {},
   "outputs": [],
   "source": [
    "### convert two-level categorical variables \n",
    "from sklearn.preprocessing import LabelEncoder\n",
    "\n",
    "Encate = df[cate]\n",
    "Encate = Encate.apply(LabelEncoder().fit_transform)"
   ]
  },
  {
   "cell_type": "code",
   "execution_count": 44,
   "id": "c497f4b4",
   "metadata": {},
   "outputs": [
    {
     "data": {
      "text/plain": [
       "HeartDisease        int64\n",
       "Smoking             int64\n",
       "AlcoholDrinking     int64\n",
       "Stroke              int64\n",
       "DiffWalking         int64\n",
       "Sex                 int64\n",
       "PhysicalActivity    int64\n",
       "Asthma              int64\n",
       "KidneyDisease       int64\n",
       "SkinCancer          int64\n",
       "dtype: object"
      ]
     },
     "execution_count": 44,
     "metadata": {},
     "output_type": "execute_result"
    }
   ],
   "source": [
    "Encate.dtypes"
   ]
  },
  {
   "cell_type": "code",
   "execution_count": 45,
   "id": "220aaac5",
   "metadata": {},
   "outputs": [],
   "source": [
    "df.update(Encate)"
   ]
  },
  {
   "cell_type": "code",
   "execution_count": 46,
   "id": "cfc31c30",
   "metadata": {},
   "outputs": [],
   "source": [
    "### orgnize the df dataset \n",
    "df[cate] = df[cate].apply(pd.to_numeric)"
   ]
  },
  {
   "cell_type": "code",
   "execution_count": 47,
   "id": "c8c4db86",
   "metadata": {},
   "outputs": [
    {
     "data": {
      "text/plain": [
       "HeartDisease          int64\n",
       "BMI                 float64\n",
       "Smoking               int64\n",
       "AlcoholDrinking       int64\n",
       "Stroke                int64\n",
       "PhysicalHealth      float64\n",
       "MentalHealth        float64\n",
       "DiffWalking           int64\n",
       "Sex                   int64\n",
       "AgeCategory          object\n",
       "Race                 object\n",
       "Diabetic             object\n",
       "PhysicalActivity      int64\n",
       "GenHealth            object\n",
       "SleepTime           float64\n",
       "Asthma                int64\n",
       "KidneyDisease         int64\n",
       "SkinCancer            int64\n",
       "dtype: object"
      ]
     },
     "execution_count": 47,
     "metadata": {},
     "output_type": "execute_result"
    }
   ],
   "source": [
    "df.dtypes"
   ]
  },
  {
   "cell_type": "code",
   "execution_count": 48,
   "id": "22dd6e32",
   "metadata": {},
   "outputs": [],
   "source": [
    "### convert multi-level categorical variables \n",
    "\n",
    "dummy_col = pd.get_dummies(df[multi_cate])\n",
    "df = pd.concat([df, dummy_col], axis=1)"
   ]
  },
  {
   "cell_type": "markdown",
   "id": "ee38da2f",
   "metadata": {},
   "source": [
    "transform the data type for dummy variables "
   ]
  },
  {
   "cell_type": "code",
   "execution_count": 49,
   "id": "dd3fef36",
   "metadata": {},
   "outputs": [],
   "source": [
    "df[['AgeCategory_18-24','AgeCategory_25-29','AgeCategory_30-34','AgeCategory_35-39','AgeCategory_40-44','AgeCategory_45-49','AgeCategory_50-54','AgeCategory_55-59','AgeCategory_60-64', 'AgeCategory_65-69','AgeCategory_70-74', 'AgeCategory_75-79','AgeCategory_80 or older']] = df[['AgeCategory_18-24','AgeCategory_25-29','AgeCategory_30-34','AgeCategory_35-39','AgeCategory_40-44','AgeCategory_45-49','AgeCategory_50-54','AgeCategory_55-59','AgeCategory_60-64', 'AgeCategory_65-69','AgeCategory_70-74', 'AgeCategory_75-79','AgeCategory_80 or older']].astype('int64')"
   ]
  },
  {
   "cell_type": "code",
   "execution_count": 50,
   "id": "e04490e5",
   "metadata": {},
   "outputs": [],
   "source": [
    "df[['Race_American Indian/Alaskan Native','Race_Asian','Race_Black','Race_Hispanic','Race_Other','Race_White']] = df[['Race_American Indian/Alaskan Native','Race_Asian','Race_Black','Race_Hispanic','Race_Other','Race_White']].astype('int64')"
   ]
  },
  {
   "cell_type": "code",
   "execution_count": 51,
   "id": "d5180405",
   "metadata": {},
   "outputs": [],
   "source": [
    "df[['Diabetic_No','Diabetic_No, borderline diabetes','Diabetic_Yes','Diabetic_Yes (during pregnancy)']] = df[['Diabetic_No','Diabetic_No, borderline diabetes','Diabetic_Yes','Diabetic_Yes (during pregnancy)']].astype('int64')"
   ]
  },
  {
   "cell_type": "code",
   "execution_count": 52,
   "id": "b3fa31b4",
   "metadata": {},
   "outputs": [],
   "source": [
    "df[['GenHealth_Excellent','GenHealth_Fair','GenHealth_Good','GenHealth_Poor','GenHealth_Very good']] = df[['GenHealth_Excellent','GenHealth_Fair','GenHealth_Good','GenHealth_Poor','GenHealth_Very good']].astype('int64')"
   ]
  },
  {
   "cell_type": "code",
   "execution_count": 53,
   "id": "85372946",
   "metadata": {},
   "outputs": [
    {
     "data": {
      "text/plain": [
       "(301717, 46)"
      ]
     },
     "execution_count": 53,
     "metadata": {},
     "output_type": "execute_result"
    }
   ],
   "source": [
    "df.shape  ### now dataset has 46 cols and 301717 obs "
   ]
  },
  {
   "cell_type": "code",
   "execution_count": 54,
   "id": "e2b8873b",
   "metadata": {},
   "outputs": [
    {
     "data": {
      "text/plain": [
       "HeartDisease                             int64\n",
       "BMI                                    float64\n",
       "Smoking                                  int64\n",
       "AlcoholDrinking                          int64\n",
       "Stroke                                   int64\n",
       "PhysicalHealth                         float64\n",
       "MentalHealth                           float64\n",
       "DiffWalking                              int64\n",
       "Sex                                      int64\n",
       "AgeCategory                             object\n",
       "Race                                    object\n",
       "Diabetic                                object\n",
       "PhysicalActivity                         int64\n",
       "GenHealth                               object\n",
       "SleepTime                              float64\n",
       "Asthma                                   int64\n",
       "KidneyDisease                            int64\n",
       "SkinCancer                               int64\n",
       "AgeCategory_18-24                        int64\n",
       "AgeCategory_25-29                        int64\n",
       "AgeCategory_30-34                        int64\n",
       "AgeCategory_35-39                        int64\n",
       "AgeCategory_40-44                        int64\n",
       "AgeCategory_45-49                        int64\n",
       "AgeCategory_50-54                        int64\n",
       "AgeCategory_55-59                        int64\n",
       "AgeCategory_60-64                        int64\n",
       "AgeCategory_65-69                        int64\n",
       "AgeCategory_70-74                        int64\n",
       "AgeCategory_75-79                        int64\n",
       "AgeCategory_80 or older                  int64\n",
       "Race_American Indian/Alaskan Native      int64\n",
       "Race_Asian                               int64\n",
       "Race_Black                               int64\n",
       "Race_Hispanic                            int64\n",
       "Race_Other                               int64\n",
       "Race_White                               int64\n",
       "Diabetic_No                              int64\n",
       "Diabetic_No, borderline diabetes         int64\n",
       "Diabetic_Yes                             int64\n",
       "Diabetic_Yes (during pregnancy)          int64\n",
       "GenHealth_Excellent                      int64\n",
       "GenHealth_Fair                           int64\n",
       "GenHealth_Good                           int64\n",
       "GenHealth_Poor                           int64\n",
       "GenHealth_Very good                      int64\n",
       "dtype: object"
      ]
     },
     "execution_count": 54,
     "metadata": {},
     "output_type": "execute_result"
    }
   ],
   "source": [
    "df.dtypes"
   ]
  },
  {
   "cell_type": "markdown",
   "id": "f67241af",
   "metadata": {},
   "source": [
    "Convert numerical variables to categorical variables "
   ]
  },
  {
   "cell_type": "markdown",
   "id": "95a07bad",
   "metadata": {},
   "source": [
    "BMI"
   ]
  },
  {
   "cell_type": "code",
   "execution_count": 55,
   "id": "d769220d",
   "metadata": {},
   "outputs": [
    {
     "data": {
      "text/plain": [
       "(11.937, 39.63]    284449\n",
       "(39.63, 67.24]      17085\n",
       "(67.24, 94.85]        183\n",
       "Name: BMI, dtype: int64"
      ]
     },
     "execution_count": 55,
     "metadata": {},
     "output_type": "execute_result"
    }
   ],
   "source": [
    "pd.cut(df.BMI,bins=3).value_counts()"
   ]
  },
  {
   "cell_type": "code",
   "execution_count": 56,
   "id": "34cb4b42",
   "metadata": {},
   "outputs": [],
   "source": [
    "df['BMI_bin']=pd.cut(df.BMI,bins=3,labels=[0,1,2])"
   ]
  },
  {
   "cell_type": "code",
   "execution_count": 57,
   "id": "fd990283",
   "metadata": {},
   "outputs": [],
   "source": [
    "df[['BMI_bin']] = df[['BMI_bin']].astype('int64')"
   ]
  },
  {
   "cell_type": "markdown",
   "id": "442dfe98",
   "metadata": {},
   "source": [
    "PhysicalHealth"
   ]
  },
  {
   "cell_type": "code",
   "execution_count": 58,
   "id": "d1cbedec",
   "metadata": {},
   "outputs": [
    {
     "data": {
      "text/plain": [
       "(-0.03, 10.0]    267034\n",
       "(20.0, 30.0]      22335\n",
       "(10.0, 20.0]      12348\n",
       "Name: PhysicalHealth, dtype: int64"
      ]
     },
     "execution_count": 58,
     "metadata": {},
     "output_type": "execute_result"
    }
   ],
   "source": [
    "pd.cut(df.PhysicalHealth,bins=3).value_counts()"
   ]
  },
  {
   "cell_type": "code",
   "execution_count": 59,
   "id": "a0c5568e",
   "metadata": {},
   "outputs": [],
   "source": [
    "df['PhysicalHealth_bin']=pd.cut(df.PhysicalHealth,bins=3,labels=[0,1,2])"
   ]
  },
  {
   "cell_type": "code",
   "execution_count": 60,
   "id": "43a4aee8",
   "metadata": {},
   "outputs": [],
   "source": [
    "df[['PhysicalHealth_bin']] = df[['PhysicalHealth_bin']].astype('int64')"
   ]
  },
  {
   "cell_type": "markdown",
   "id": "62fa8fd5",
   "metadata": {},
   "source": [
    "MentalHealth"
   ]
  },
  {
   "cell_type": "code",
   "execution_count": 61,
   "id": "83bfa41b",
   "metadata": {},
   "outputs": [
    {
     "data": {
      "text/plain": [
       "(-0.03, 10.0]    262004\n",
       "(20.0, 30.0]      20906\n",
       "(10.0, 20.0]      18807\n",
       "Name: MentalHealth, dtype: int64"
      ]
     },
     "execution_count": 61,
     "metadata": {},
     "output_type": "execute_result"
    }
   ],
   "source": [
    "pd.cut(df.MentalHealth,bins=3).value_counts()"
   ]
  },
  {
   "cell_type": "code",
   "execution_count": 62,
   "id": "44c35dab",
   "metadata": {},
   "outputs": [],
   "source": [
    "df['Mental_bin']=pd.cut(df.MentalHealth,bins=3,labels=[0,1,2])"
   ]
  },
  {
   "cell_type": "code",
   "execution_count": 63,
   "id": "9dbaaea8",
   "metadata": {},
   "outputs": [],
   "source": [
    "df[['Mental_bin']] = df[['Mental_bin']].astype('int64')"
   ]
  },
  {
   "cell_type": "markdown",
   "id": "a5ed8ac9",
   "metadata": {},
   "source": [
    "SleepTime "
   ]
  },
  {
   "cell_type": "code",
   "execution_count": 64,
   "id": "ea5aec5e",
   "metadata": {},
   "outputs": [
    {
     "data": {
      "text/plain": [
       "(0.977, 8.667]     274464\n",
       "(8.667, 16.333]     27019\n",
       "(16.333, 24.0]        234\n",
       "Name: SleepTime, dtype: int64"
      ]
     },
     "execution_count": 64,
     "metadata": {},
     "output_type": "execute_result"
    }
   ],
   "source": [
    "pd.cut(df.SleepTime,bins=3).value_counts()"
   ]
  },
  {
   "cell_type": "code",
   "execution_count": 65,
   "id": "ae40e6c1",
   "metadata": {},
   "outputs": [],
   "source": [
    "df['SleepTime_bin']=pd.cut(df.SleepTime,bins=3,labels=[0,1,2])"
   ]
  },
  {
   "cell_type": "code",
   "execution_count": 66,
   "id": "21a1baeb",
   "metadata": {},
   "outputs": [],
   "source": [
    "df[['SleepTime_bin']] = df[['SleepTime_bin']].astype('int64')"
   ]
  },
  {
   "cell_type": "code",
   "execution_count": 88,
   "id": "f00e5128",
   "metadata": {},
   "outputs": [
    {
     "data": {
      "text/plain": [
       "(301717, 50)"
      ]
     },
     "execution_count": 88,
     "metadata": {},
     "output_type": "execute_result"
    }
   ],
   "source": [
    "df.shape ### final dataset has 46 cols and 301717 obs "
   ]
  },
  {
   "cell_type": "code",
   "execution_count": 67,
   "id": "5c015bf1",
   "metadata": {},
   "outputs": [
    {
     "data": {
      "text/plain": [
       "HeartDisease                             int64\n",
       "BMI                                    float64\n",
       "Smoking                                  int64\n",
       "AlcoholDrinking                          int64\n",
       "Stroke                                   int64\n",
       "PhysicalHealth                         float64\n",
       "MentalHealth                           float64\n",
       "DiffWalking                              int64\n",
       "Sex                                      int64\n",
       "AgeCategory                             object\n",
       "Race                                    object\n",
       "Diabetic                                object\n",
       "PhysicalActivity                         int64\n",
       "GenHealth                               object\n",
       "SleepTime                              float64\n",
       "Asthma                                   int64\n",
       "KidneyDisease                            int64\n",
       "SkinCancer                               int64\n",
       "AgeCategory_18-24                        int64\n",
       "AgeCategory_25-29                        int64\n",
       "AgeCategory_30-34                        int64\n",
       "AgeCategory_35-39                        int64\n",
       "AgeCategory_40-44                        int64\n",
       "AgeCategory_45-49                        int64\n",
       "AgeCategory_50-54                        int64\n",
       "AgeCategory_55-59                        int64\n",
       "AgeCategory_60-64                        int64\n",
       "AgeCategory_65-69                        int64\n",
       "AgeCategory_70-74                        int64\n",
       "AgeCategory_75-79                        int64\n",
       "AgeCategory_80 or older                  int64\n",
       "Race_American Indian/Alaskan Native      int64\n",
       "Race_Asian                               int64\n",
       "Race_Black                               int64\n",
       "Race_Hispanic                            int64\n",
       "Race_Other                               int64\n",
       "Race_White                               int64\n",
       "Diabetic_No                              int64\n",
       "Diabetic_No, borderline diabetes         int64\n",
       "Diabetic_Yes                             int64\n",
       "Diabetic_Yes (during pregnancy)          int64\n",
       "GenHealth_Excellent                      int64\n",
       "GenHealth_Fair                           int64\n",
       "GenHealth_Good                           int64\n",
       "GenHealth_Poor                           int64\n",
       "GenHealth_Very good                      int64\n",
       "BMI_bin                                  int64\n",
       "PhysicalHealth_bin                       int64\n",
       "Mental_bin                               int64\n",
       "SleepTime_bin                            int64\n",
       "dtype: object"
      ]
     },
     "execution_count": 67,
     "metadata": {},
     "output_type": "execute_result"
    }
   ],
   "source": [
    "df.dtypes"
   ]
  },
  {
   "cell_type": "markdown",
   "id": "1b39a7c2",
   "metadata": {},
   "source": [
    "Install imbalanced-learn if not "
   ]
  },
  {
   "cell_type": "code",
   "execution_count": 68,
   "id": "cee49276",
   "metadata": {},
   "outputs": [],
   "source": [
    "#pip install imbalanced-learn"
   ]
  },
  {
   "cell_type": "code",
   "execution_count": 69,
   "id": "bbfea357",
   "metadata": {},
   "outputs": [],
   "source": [
    "#conda install -c conda-forge imbalanced-learn"
   ]
  },
  {
   "cell_type": "markdown",
   "id": "cfd6f521",
   "metadata": {},
   "source": [
    "Use SMOTE to resample the target variable so its balanced "
   ]
  },
  {
   "cell_type": "code",
   "execution_count": 70,
   "id": "ff6c481f",
   "metadata": {},
   "outputs": [],
   "source": [
    "##### split train and test dataset 0.8/0.2\n",
    "import statsmodels.api as sm\n",
    "from sklearn.model_selection import train_test_split\n",
    "from imblearn import under_sampling, over_sampling\n",
    "from imblearn.over_sampling import SMOTE\n",
    "from collections import Counter\n",
    "\n",
    "\n",
    "Features = df.drop(['HeartDisease','AgeCategory','Race','Diabetic','GenHealth','BMI','PhysicalHealth','MentalHealth','SleepTime'],axis=1)\n",
    "Target = df.HeartDisease"
   ]
  },
  {
   "cell_type": "code",
   "execution_count": 71,
   "id": "3918e7e2",
   "metadata": {},
   "outputs": [],
   "source": [
    "# use SMOTE to balance the data, so that the # of minority and majority data are the same \n",
    "oversample = SMOTE()\n",
    "X, y = oversample.fit_resample(Features, Target)\n",
    "\n",
    "train_X, test_X, train_y, test_y = train_test_split( X ,y , train_size = 0.8, random_state=42 )"
   ]
  },
  {
   "cell_type": "code",
   "execution_count": 72,
   "id": "a98f509c",
   "metadata": {},
   "outputs": [
    {
     "data": {
      "text/plain": [
       "Counter({0: 274456, 1: 274456})"
      ]
     },
     "execution_count": 72,
     "metadata": {},
     "output_type": "execute_result"
    }
   ],
   "source": [
    "# Previewing class weights\n",
    "Counter(y)"
   ]
  },
  {
   "cell_type": "code",
   "execution_count": 73,
   "id": "e0ca73c0",
   "metadata": {},
   "outputs": [
    {
     "data": {
      "image/png": "[encoded data removed]",
      "text/plain": [
       "<Figure size 432x288 with 1 Axes>"
      ]
     },
     "metadata": {
      "needs_background": "light"
     },
     "output_type": "display_data"
    }
   ],
   "source": [
    "# check whether the # of the target variable is equal\n",
    "y.value_counts().plot(kind='bar')\n",
    "plt.title('label balance')\n",
    "plt.xlabel('label values')\n",
    "plt.ylabel('amount per label')\n",
    "plt.show()"
   ]
  },
  {
   "cell_type": "markdown",
   "id": "5c735601",
   "metadata": {},
   "source": [
    "Logistic Regression Model Fitting "
   ]
  },
  {
   "cell_type": "code",
   "execution_count": 74,
   "id": "05877267",
   "metadata": {},
   "outputs": [
    {
     "data": {
      "text/html": [
       "<style>#sk-container-id-1 {color: black;}#sk-container-id-1 pre{padding: 0;}#sk-container-id-1 div.sk-toggleable {background-color: white;}#sk-container-id-1 label.sk-toggleable__label {cursor: pointer;display: block;width: 100%;margin-bottom: 0;padding: 0.3em;box-sizing: border-box;text-align: center;}#sk-container-id-1 label.sk-toggleable__label-arrow:before {content: \"▸\";float: left;margin-right: 0.25em;color: #696969;}#sk-container-id-1 label.sk-toggleable__label-arrow:hover:before {color: black;}#sk-container-id-1 div.sk-estimator:hover label.sk-toggleable__label-arrow:before {color: black;}#sk-container-id-1 div.sk-toggleable__content {max-height: 0;max-width: 0;overflow: hidden;text-align: left;background-color: #f0f8ff;}#sk-container-id-1 div.sk-toggleable__content pre {margin: 0.2em;color: black;border-radius: 0.25em;background-color: #f0f8ff;}#sk-container-id-1 input.sk-toggleable__control:checked~div.sk-toggleable__content {max-height: 200px;max-width: 100%;overflow: auto;}#sk-container-id-1 input.sk-toggleable__control:checked~label.sk-toggleable__label-arrow:before {content: \"▾\";}#sk-container-id-1 div.sk-estimator input.sk-toggleable__control:checked~label.sk-toggleable__label {background-color: #d4ebff;}#sk-container-id-1 div.sk-label input.sk-toggleable__control:checked~label.sk-toggleable__label {background-color: #d4ebff;}#sk-container-id-1 input.sk-hidden--visually {border: 0;clip: rect(1px 1px 1px 1px);clip: rect(1px, 1px, 1px, 1px);height: 1px;margin: -1px;overflow: hidden;padding: 0;position: absolute;width: 1px;}#sk-container-id-1 div.sk-estimator {font-family: monospace;background-color: #f0f8ff;border: 1px dotted black;border-radius: 0.25em;box-sizing: border-box;margin-bottom: 0.5em;}#sk-container-id-1 div.sk-estimator:hover {background-color: #d4ebff;}#sk-container-id-1 div.sk-parallel-item::after {content: \"\";width: 100%;border-bottom: 1px solid gray;flex-grow: 1;}#sk-container-id-1 div.sk-label:hover label.sk-toggleable__label {background-color: #d4ebff;}#sk-container-id-1 div.sk-serial::before {content: \"\";position: absolute;border-left: 1px solid gray;box-sizing: border-box;top: 0;bottom: 0;left: 50%;z-index: 0;}#sk-container-id-1 div.sk-serial {display: flex;flex-direction: column;align-items: center;background-color: white;padding-right: 0.2em;padding-left: 0.2em;position: relative;}#sk-container-id-1 div.sk-item {position: relative;z-index: 1;}#sk-container-id-1 div.sk-parallel {display: flex;align-items: stretch;justify-content: center;background-color: white;position: relative;}#sk-container-id-1 div.sk-item::before, #sk-container-id-1 div.sk-parallel-item::before {content: \"\";position: absolute;border-left: 1px solid gray;box-sizing: border-box;top: 0;bottom: 0;left: 50%;z-index: -1;}#sk-container-id-1 div.sk-parallel-item {display: flex;flex-direction: column;z-index: 1;position: relative;background-color: white;}#sk-container-id-1 div.sk-parallel-item:first-child::after {align-self: flex-end;width: 50%;}#sk-container-id-1 div.sk-parallel-item:last-child::after {align-self: flex-start;width: 50%;}#sk-container-id-1 div.sk-parallel-item:only-child::after {width: 0;}#sk-container-id-1 div.sk-dashed-wrapped {border: 1px dashed gray;margin: 0 0.4em 0.5em 0.4em;box-sizing: border-box;padding-bottom: 0.4em;background-color: white;}#sk-container-id-1 div.sk-label label {font-family: monospace;font-weight: bold;display: inline-block;line-height: 1.2em;}#sk-container-id-1 div.sk-label-container {text-align: center;}#sk-container-id-1 div.sk-container {/* jupyter's `normalize.less` sets `[hidden] { display: none; }` but bootstrap.min.css set `[hidden] { display: none !important; }` so we also need the `!important` here to be able to override the default hidden behavior on the sphinx rendered scikit-learn.org. See: https://github.com/scikit-learn/scikit-learn/issues/21755 */display: inline-block !important;position: relative;}#sk-container-id-1 div.sk-text-repr-fallback {display: none;}</style><div id=\"sk-container-id-1\" class=\"sk-top-container\"><div class=\"sk-text-repr-fallback\"><pre>LogisticRegression()</pre><b>In a Jupyter environment, please rerun this cell to show the HTML representation or trust the notebook. <br />On GitHub, the HTML representation is unable to render, please try loading this page with nbviewer.org.</b></div><div class=\"sk-container\" hidden><div class=\"sk-item\"><div class=\"sk-estimator sk-toggleable\"><input class=\"sk-toggleable__control sk-hidden--visually\" id=\"sk-estimator-id-1\" type=\"checkbox\" checked><label for=\"sk-estimator-id-1\" class=\"sk-toggleable__label sk-toggleable__label-arrow\">LogisticRegression</label><div class=\"sk-toggleable__content\"><pre>LogisticRegression()</pre></div></div></div></div></div>"
      ],
      "text/plain": [
       "LogisticRegression()"
      ]
     },
     "execution_count": 74,
     "metadata": {},
     "output_type": "execute_result"
    }
   ],
   "source": [
    "from sklearn.linear_model import LogisticRegression\n",
    "\n",
    "logreg = LogisticRegression()\n",
    "logreg.fit(train_X, train_y)"
   ]
  },
  {
   "cell_type": "code",
   "execution_count": 75,
   "id": "d579c4b8",
   "metadata": {},
   "outputs": [],
   "source": [
    "# Predict the classes of the testing set\n",
    "y_pred = logreg.predict(test_X)"
   ]
  },
  {
   "cell_type": "code",
   "execution_count": 76,
   "id": "a9267b9e",
   "metadata": {},
   "outputs": [
    {
     "name": "stdout",
     "output_type": "stream",
     "text": [
      "Accuracy: 0.7808039496096846\n"
     ]
    }
   ],
   "source": [
    "from sklearn.metrics import accuracy_score\n",
    "accuracy = accuracy_score(test_y, y_pred)\n",
    "print('Accuracy:', accuracy)"
   ]
  },
  {
   "cell_type": "markdown",
   "id": "9b602a41",
   "metadata": {},
   "source": [
    "Model Evaluation - Confusion Matrix "
   ]
  },
  {
   "cell_type": "code",
   "execution_count": 77,
   "id": "8fde8e9c",
   "metadata": {},
   "outputs": [
    {
     "data": {
      "image/png": "[encoded data removed]",
      "text/plain": [
       "<Figure size 432x288 with 2 Axes>"
      ]
     },
     "metadata": {
      "needs_background": "light"
     },
     "output_type": "display_data"
    }
   ],
   "source": [
    "from sklearn.metrics import confusion_matrix\n",
    "from sklearn import metrics\n",
    "\n",
    "confusion_matrix = metrics.confusion_matrix(test_y, y_pred)\n",
    "\n",
    "cm_display = metrics.ConfusionMatrixDisplay(confusion_matrix = confusion_matrix, display_labels = [False, True])\n",
    "\n",
    "cm_display.plot()\n",
    "plt.show()"
   ]
  },
  {
   "cell_type": "markdown",
   "id": "e409f974",
   "metadata": {},
   "source": [
    "Precision / Recall / F1"
   ]
  },
  {
   "cell_type": "code",
   "execution_count": 78,
   "id": "2e3ede2d",
   "metadata": {},
   "outputs": [
    {
     "name": "stdout",
     "output_type": "stream",
     "text": [
      "precision is 0.7655178356022747\n"
     ]
    }
   ],
   "source": [
    "lgr_precision = metrics.precision_score(test_y, y_pred)\n",
    "print('precision is', lgr_precision)"
   ]
  },
  {
   "cell_type": "code",
   "execution_count": 79,
   "id": "d8af2fea",
   "metadata": {},
   "outputs": [
    {
     "name": "stdout",
     "output_type": "stream",
     "text": [
      "recall is 0.8094569970845481\n"
     ]
    }
   ],
   "source": [
    "lgr_recall = metrics.recall_score(test_y, y_pred)\n",
    "print('recall is', lgr_recall)"
   ]
  },
  {
   "cell_type": "code",
   "execution_count": 80,
   "id": "a06cc8d3",
   "metadata": {},
   "outputs": [
    {
     "name": "stdout",
     "output_type": "stream",
     "text": [
      "F1 score is 0.7868745018156055\n"
     ]
    }
   ],
   "source": [
    "lgr_F1 = metrics.f1_score(test_y, y_pred)\n",
    "print('F1 score is', lgr_F1)"
   ]
  },
  {
   "cell_type": "markdown",
   "id": "cc7e23a0",
   "metadata": {},
   "source": [
    "Random Forest Model Fitting "
   ]
  },
  {
   "cell_type": "code",
   "execution_count": 81,
   "id": "1dba351a",
   "metadata": {},
   "outputs": [
    {
     "data": {
      "text/html": [
       "<style>#sk-container-id-2 {color: black;}#sk-container-id-2 pre{padding: 0;}#sk-container-id-2 div.sk-toggleable {background-color: white;}#sk-container-id-2 label.sk-toggleable__label {cursor: pointer;display: block;width: 100%;margin-bottom: 0;padding: 0.3em;box-sizing: border-box;text-align: center;}#sk-container-id-2 label.sk-toggleable__label-arrow:before {content: \"▸\";float: left;margin-right: 0.25em;color: #696969;}#sk-container-id-2 label.sk-toggleable__label-arrow:hover:before {color: black;}#sk-container-id-2 div.sk-estimator:hover label.sk-toggleable__label-arrow:before {color: black;}#sk-container-id-2 div.sk-toggleable__content {max-height: 0;max-width: 0;overflow: hidden;text-align: left;background-color: #f0f8ff;}#sk-container-id-2 div.sk-toggleable__content pre {margin: 0.2em;color: black;border-radius: 0.25em;background-color: #f0f8ff;}#sk-container-id-2 input.sk-toggleable__control:checked~div.sk-toggleable__content {max-height: 200px;max-width: 100%;overflow: auto;}#sk-container-id-2 input.sk-toggleable__control:checked~label.sk-toggleable__label-arrow:before {content: \"▾\";}#sk-container-id-2 div.sk-estimator input.sk-toggleable__control:checked~label.sk-toggleable__label {background-color: #d4ebff;}#sk-container-id-2 div.sk-label input.sk-toggleable__control:checked~label.sk-toggleable__label {background-color: #d4ebff;}#sk-container-id-2 input.sk-hidden--visually {border: 0;clip: rect(1px 1px 1px 1px);clip: rect(1px, 1px, 1px, 1px);height: 1px;margin: -1px;overflow: hidden;padding: 0;position: absolute;width: 1px;}#sk-container-id-2 div.sk-estimator {font-family: monospace;background-color: #f0f8ff;border: 1px dotted black;border-radius: 0.25em;box-sizing: border-box;margin-bottom: 0.5em;}#sk-container-id-2 div.sk-estimator:hover {background-color: #d4ebff;}#sk-container-id-2 div.sk-parallel-item::after {content: \"\";width: 100%;border-bottom: 1px solid gray;flex-grow: 1;}#sk-container-id-2 div.sk-label:hover label.sk-toggleable__label {background-color: #d4ebff;}#sk-container-id-2 div.sk-serial::before {content: \"\";position: absolute;border-left: 1px solid gray;box-sizing: border-box;top: 0;bottom: 0;left: 50%;z-index: 0;}#sk-container-id-2 div.sk-serial {display: flex;flex-direction: column;align-items: center;background-color: white;padding-right: 0.2em;padding-left: 0.2em;position: relative;}#sk-container-id-2 div.sk-item {position: relative;z-index: 1;}#sk-container-id-2 div.sk-parallel {display: flex;align-items: stretch;justify-content: center;background-color: white;position: relative;}#sk-container-id-2 div.sk-item::before, #sk-container-id-2 div.sk-parallel-item::before {content: \"\";position: absolute;border-left: 1px solid gray;box-sizing: border-box;top: 0;bottom: 0;left: 50%;z-index: -1;}#sk-container-id-2 div.sk-parallel-item {display: flex;flex-direction: column;z-index: 1;position: relative;background-color: white;}#sk-container-id-2 div.sk-parallel-item:first-child::after {align-self: flex-end;width: 50%;}#sk-container-id-2 div.sk-parallel-item:last-child::after {align-self: flex-start;width: 50%;}#sk-container-id-2 div.sk-parallel-item:only-child::after {width: 0;}#sk-container-id-2 div.sk-dashed-wrapped {border: 1px dashed gray;margin: 0 0.4em 0.5em 0.4em;box-sizing: border-box;padding-bottom: 0.4em;background-color: white;}#sk-container-id-2 div.sk-label label {font-family: monospace;font-weight: bold;display: inline-block;line-height: 1.2em;}#sk-container-id-2 div.sk-label-container {text-align: center;}#sk-container-id-2 div.sk-container {/* jupyter's `normalize.less` sets `[hidden] { display: none; }` but bootstrap.min.css set `[hidden] { display: none !important; }` so we also need the `!important` here to be able to override the default hidden behavior on the sphinx rendered scikit-learn.org. See: https://github.com/scikit-learn/scikit-learn/issues/21755 */display: inline-block !important;position: relative;}#sk-container-id-2 div.sk-text-repr-fallback {display: none;}</style><div id=\"sk-container-id-2\" class=\"sk-top-container\"><div class=\"sk-text-repr-fallback\"><pre>RandomForestClassifier()</pre><b>In a Jupyter environment, please rerun this cell to show the HTML representation or trust the notebook. <br />On GitHub, the HTML representation is unable to render, please try loading this page with nbviewer.org.</b></div><div class=\"sk-container\" hidden><div class=\"sk-item\"><div class=\"sk-estimator sk-toggleable\"><input class=\"sk-toggleable__control sk-hidden--visually\" id=\"sk-estimator-id-2\" type=\"checkbox\" checked><label for=\"sk-estimator-id-2\" class=\"sk-toggleable__label sk-toggleable__label-arrow\">RandomForestClassifier</label><div class=\"sk-toggleable__content\"><pre>RandomForestClassifier()</pre></div></div></div></div></div>"
      ],
      "text/plain": [
       "RandomForestClassifier()"
      ]
     },
     "execution_count": 81,
     "metadata": {},
     "output_type": "execute_result"
    }
   ],
   "source": [
    "from sklearn.ensemble import RandomForestClassifier\n",
    "\n",
    "rf = RandomForestClassifier()\n",
    "rf.fit(train_X, train_y)"
   ]
  },
  {
   "cell_type": "code",
   "execution_count": 82,
   "id": "566da61a",
   "metadata": {},
   "outputs": [],
   "source": [
    "y_pred = rf.predict(test_X)"
   ]
  },
  {
   "cell_type": "code",
   "execution_count": 83,
   "id": "46568788",
   "metadata": {
    "scrolled": true
   },
   "outputs": [
    {
     "name": "stdout",
     "output_type": "stream",
     "text": [
      "Accuracy: 0.8249546833298416\n"
     ]
    }
   ],
   "source": [
    "accuracy = accuracy_score(test_y, y_pred)\n",
    "print('Accuracy:', accuracy)"
   ]
  },
  {
   "cell_type": "markdown",
   "id": "a728af3b",
   "metadata": {},
   "source": [
    "Model Evalution - Confusion Matrix "
   ]
  },
  {
   "cell_type": "code",
   "execution_count": 84,
   "id": "a9b1361a",
   "metadata": {},
   "outputs": [
    {
     "data": {
      "image/png": "[encoded data removed]",
      "text/plain": [
       "<Figure size 432x288 with 2 Axes>"
      ]
     },
     "metadata": {
      "needs_background": "light"
     },
     "output_type": "display_data"
    }
   ],
   "source": [
    "confusion_matrix = metrics.confusion_matrix(test_y, y_pred)\n",
    "\n",
    "cm_display = metrics.ConfusionMatrixDisplay(confusion_matrix = confusion_matrix, display_labels = [False, True])\n",
    "\n",
    "cm_display.plot()\n",
    "plt.show()"
   ]
  },
  {
   "cell_type": "code",
   "execution_count": 85,
   "id": "f3401d86",
   "metadata": {},
   "outputs": [
    {
     "name": "stdout",
     "output_type": "stream",
     "text": [
      "precision is 0.8024697640493275\n"
     ]
    }
   ],
   "source": [
    "rf_precision = metrics.precision_score(test_y, y_pred)\n",
    "print('precision is', rf_precision)"
   ]
  },
  {
   "cell_type": "code",
   "execution_count": 86,
   "id": "a65f73a8",
   "metadata": {},
   "outputs": [
    {
     "name": "stdout",
     "output_type": "stream",
     "text": [
      "recall is 0.8620262390670554\n"
     ]
    }
   ],
   "source": [
    "rf_recall = metrics.recall_score(test_y, y_pred)\n",
    "print('recall is', rf_recall)"
   ]
  },
  {
   "cell_type": "code",
   "execution_count": 87,
   "id": "9335d962",
   "metadata": {},
   "outputs": [
    {
     "name": "stdout",
     "output_type": "stream",
     "text": [
      "F1 score is 0.831182521764339\n"
     ]
    }
   ],
   "source": [
    "rf_F1 = metrics.f1_score(test_y, y_pred)\n",
    "print('F1 score is', rf_F1)"
   ]
  },
  {
   "cell_type": "markdown",
   "id": "f27e6e45",
   "metadata": {},
   "source": [
    "The best model is random forest becuase it has a higher recall meaning its good at predicting less false negatives, and a higher F1 score close to 1 means the model is good at predicting patients with heart disease "
   ]
  }
 ],
 "metadata": {
  "kernelspec": {
   "display_name": "Python 3",
   "language": "python",
   "name": "python3"
  },
  "language_info": {
   "codemirror_mode": {
    "name": "ipython",
    "version": 3
   },
   "file_extension": ".py",
   "mimetype": "text/x-python",
   "name": "python",
   "nbconvert_exporter": "python",
   "pygments_lexer": "ipython3",
   "version": "3.8.8"
  }
 },
 "nbformat": 4,
 "nbformat_minor": 5
}
